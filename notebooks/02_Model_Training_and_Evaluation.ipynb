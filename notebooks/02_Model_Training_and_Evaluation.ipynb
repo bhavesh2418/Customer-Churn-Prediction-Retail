{
 "cells": [
  {
   "cell_type": "markdown",
   "metadata": {},
   "source": [
    "# Model Training & Evaluation
",
    "## Feature Engineering
",
    "## Model Building
",
    "## Model Evaluation
",
    "## Insights"
   ]
  }
 ],
 "metadata": {},
 "nbformat": 4,
 "nbformat_minor": 2
}