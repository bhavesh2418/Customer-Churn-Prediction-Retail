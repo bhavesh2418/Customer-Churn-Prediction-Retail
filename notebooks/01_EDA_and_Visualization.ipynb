{
 "cells": [
  {
   "cell_type": "markdown",
   "metadata": {},
   "source": [
    "# EDA and Visualization
",
    "## Load Data
",
    "## Data Overview
",
    "## Cleaning
",
    "## Exploratory Plots"
   ]
  }
 ],
 "metadata": {},
 "nbformat": 4,
 "nbformat_minor": 2
}